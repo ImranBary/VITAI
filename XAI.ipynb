{
 "cells": [
  {
   "cell_type": "markdown",
   "metadata": {},
   "source": [
    "<h1>Explainable AI (XAI)</h1>\n",
    "<p>To investigate what sways the model output the most, we can use SHAP (SHapley Additive exPlanations) to explain the predictions of a model. Since autoencoders are unsupervised, we can train a supervised model (e.g., regression) to predict the reconstruction error based on the input features.</p>"
   ]
  },
  {
   "cell_type": "markdown",
   "metadata": {},
   "source": [
    "<h3>Training a Regression Model</h3>"
   ]
  },
  {
   "cell_type": "code",
   "execution_count": null,
   "metadata": {
    "vscode": {
     "languageId": "plaintext"
    }
   },
   "outputs": [],
   "source": [
    "from sklearn.ensemble import RandomForestRegressor\n",
    "\n",
    "# Use the original standardized features to predict reconstruction error\n",
    "X = pd.DataFrame(X_scaled, columns=structured_data.columns)\n",
    "y = reconstruction_error\n",
    "\n",
    "# Split data for training the regressor\n",
    "X_train_reg, X_val_reg, y_train_reg, y_val_reg = train_test_split(X, y, test_size=0.2, random_state=42)\n",
    "\n",
    "# Train a Random Forest Regressor\n",
    "regressor = RandomForestRegressor(n_estimators=100, random_state=42)\n",
    "regressor.fit(X_train_reg, y_train_reg)\n",
    "\n",
    "# Evaluate the regressor\n",
    "from sklearn.metrics import mean_squared_error\n",
    "\n",
    "y_pred = regressor.predict(X_val_reg)\n",
    "mse = mean_squared_error(y_val_reg, y_pred)\n",
    "print(f\"Mean Squared Error of the regressor: {mse:.4f}\")\n"
   ]
  },
  {
   "cell_type": "markdown",
   "metadata": {},
   "source": [
    "<h3>Apply SHAP for Explainability</h3>"
   ]
  },
  {
   "cell_type": "code",
   "execution_count": null,
   "metadata": {
    "vscode": {
     "languageId": "plaintext"
    }
   },
   "outputs": [],
   "source": [
    "import shap\n",
    "\n",
    "# Initialize the SHAP explainer\n",
    "explainer = shap.TreeExplainer(regressor)\n",
    "\n",
    "# Compute SHAP values (this may take some time)\n",
    "shap_values = explainer.shap_values(X)\n",
    "\n",
    "# Plot the summary\n",
    "shap.summary_plot(shap_values, X, plot_type='bar')\n"
   ]
  }
 ],
 "metadata": {
  "language_info": {
   "name": "python"
  }
 },
 "nbformat": 4,
 "nbformat_minor": 2
}
