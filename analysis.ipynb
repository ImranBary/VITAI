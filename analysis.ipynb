{
 "cells": [
  {
   "cell_type": "markdown",
   "metadata": {},
   "source": [
    "### Load Data"
   ]
  },
  {
   "cell_type": "code",
   "execution_count": null,
   "metadata": {},
   "outputs": [],
   "source": [
    "import pandas as pd\n",
    "import numpy as np\n",
    "import matplotlib.pyplot as plt\n",
    "import seaborn as sns\n",
    "from sklearn.cluster import KMeans\n",
    "from sklearn.manifold import TSNE\n",
    "from sklearn.preprocessing import MinMaxScaler\n",
    "\n",
    "# Load latent features from VAE\n",
    "latent_features = pd.read_csv('latent_features_vae.csv')\n",
    "\n",
    "# Load TabNet predictions\n",
    "tabnet_predictions = pd.read_csv('tabnet_predictions.csv')\n",
    "\n",
    "# Merge data\n",
    "data = latent_features.merge(tabnet_predictions, on='Id', how='inner')\n"
   ]
  },
  {
   "cell_type": "markdown",
   "metadata": {},
   "source": [
    "### Clustering"
   ]
  },
  {
   "cell_type": "code",
   "execution_count": null,
   "metadata": {},
   "outputs": [],
   "source": [
    "# Perform clustering on latent features\n",
    "n_clusters = 5\n",
    "kmeans = KMeans(n_clusters=n_clusters, random_state=42)\n",
    "data['Cluster'] = kmeans.fit_predict(data.iloc[:, :-2])  # Exclude 'Id' and 'Predicted_Health_Index'\n",
    "\n",
    "# Map clusters to severity index\n",
    "data['Severity_Index'] = data['Cluster']\n"
   ]
  },
  {
   "cell_type": "markdown",
   "metadata": {},
   "source": [
    "### Visulaistaion"
   ]
  },
  {
   "cell_type": "code",
   "execution_count": null,
   "metadata": {},
   "outputs": [],
   "source": [
    "# t-SNE Visualization\n",
    "tsne = TSNE(n_components=2, random_state=42)\n",
    "tsne_results = tsne.fit_transform(data.iloc[:, :-3])  # Exclude 'Id', 'Predicted_Health_Index', 'Cluster'\n",
    "\n",
    "# Plot t-SNE results\n",
    "plt.figure(figsize=(10, 6))\n",
    "sns.scatterplot(x=tsne_results[:, 0], y=tsne_results[:, 1], hue=data['Cluster'], palette='viridis')\n",
    "plt.title('t-SNE Visualization of Latent Features')\n",
    "plt.show()\n"
   ]
  },
  {
   "cell_type": "markdown",
   "metadata": {},
   "source": [
    "### Analysis"
   ]
  },
  {
   "cell_type": "code",
   "execution_count": null,
   "metadata": {},
   "outputs": [],
   "source": [
    "# Analyze clusters\n",
    "cluster_summary = data.groupby('Cluster').mean()\n",
    "display(cluster_summary)\n",
    "\n",
    "# Visualize Predicted Health Index by Cluster\n",
    "plt.figure(figsize=(10, 6))\n",
    "sns.boxplot(x='Cluster', y='Predicted_Health_Index', data=data)\n",
    "plt.title('Predicted Health Index by Cluster')\n",
    "plt.show()\n"
   ]
  },
  {
   "cell_type": "markdown",
   "metadata": {},
   "source": [
    "### Save Analysis Results"
   ]
  },
  {
   "cell_type": "code",
   "execution_count": null,
   "metadata": {},
   "outputs": [],
   "source": [
    "# Save the data with clusters and severity index\n",
    "data.to_csv('analysis_results.csv', index=False)\n",
    "print(\"Analysis results saved.\")\n"
   ]
  }
 ],
 "metadata": {
  "kernelspec": {
   "display_name": "tf_gpu_env",
   "language": "python",
   "name": "python3"
  },
  "language_info": {
   "name": "python",
   "version": "3.9.20"
  }
 },
 "nbformat": 4,
 "nbformat_minor": 2
}
