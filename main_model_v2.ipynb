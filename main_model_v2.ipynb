{
 "cells": [
  {
   "cell_type": "markdown",
   "metadata": {},
   "source": [
    "# Variational Autoencoder with Clustering for Health Severity Analysis\n",
    "This notebook implements a Variational Autoencoder (VAE) on structured health data to identify patient clusters corresponding to different levels of health severity. The steps include:\n",
    "1. Setup and Configuration\n",
    "2. Data Loading and Preprocessing\n",
    "3. VAE Model Definition and Hyperparameter Tuning\n",
    "4. Model Training and Reconstruction Error Calculation\n",
    "5. Latent Space Extraction and Clustering\n",
    "6. Latent Space Visualization\n",
    "7. Health Severity Index Assignment\n",
    "8. Cluster Analysis and Validation\n",
    "9. Memory Management and Cleanup"
   ]
  },
  {
   "cell_type": "code",
   "execution_count": 4,
   "metadata": {},
   "outputs": [],
   "source": [
    "# Import necessary libraries\n",
    "import numpy as np\n",
    "import pandas as pd\n",
    "import os\n",
    "import joblib\n",
    "import matplotlib.pyplot as plt\n",
    "import seaborn as sns\n",
    "\n",
    "# Machine learning and deep learning libraries\n",
    "from sklearn.preprocessing import StandardScaler, MinMaxScaler\n",
    "from sklearn.model_selection import train_test_split\n",
    "from sklearn.cluster import KMeans, DBSCAN, AgglomerativeClustering\n",
    "from sklearn.metrics import silhouette_score\n",
    "from sklearn.manifold import TSNE\n",
    "import tensorflow as tf\n",
    "from tensorflow import keras\n",
    "from keras import layers\n",
    "from keras_tuner import BayesianOptimization\n",
    "\n",
    "\n",
    "# Enable inline plotting\n",
    "%matplotlib inline\n"
   ]
  },
  {
   "cell_type": "code",
   "execution_count": 5,
   "metadata": {},
   "outputs": [
    {
     "name": "stdout",
     "output_type": "stream",
     "text": [
      "Num GPUs Available:  1\n",
      "Enabled memory growth on GPU\n"
     ]
    }
   ],
   "source": [
    "# Check if TensorFlow is using the GPU\n",
    "print(\"Num GPUs Available: \", len(tf.config.list_physical_devices('GPU')))\n",
    "\n",
    "# Enable memory growth for GPUs\n",
    "gpus = tf.config.list_physical_devices('GPU')\n",
    "if gpus:\n",
    "    try:\n",
    "        # Currently, memory growth needs to be the same across GPUs\n",
    "        for gpu in gpus:\n",
    "            tf.config.experimental.set_memory_growth(gpu, True)\n",
    "        print(\"Enabled memory growth on GPU\")\n",
    "    except RuntimeError as e:\n",
    "        print(e)\n",
    "else:\n",
    "    print(\"No GPU found. The code will run on CPU, which might be slower.\")\n"
   ]
  },
  {
   "cell_type": "markdown",
   "metadata": {},
   "source": [
    "### 2. Data Loading and Preprocessing\n",
    "We load the preprocessed structured data, standardize it, and split it into training and validation sets."
   ]
  },
  {
   "cell_type": "code",
   "execution_count": 6,
   "metadata": {},
   "outputs": [],
   "source": [
    "# Load preprocessed structured data\n",
    "structured_data = pd.read_csv('structured_data_preprocessed.csv')\n",
    "\n",
    "# Separate features\n",
    "X_structured = structured_data.values.astype('float32')  # Use float32 for efficiency\n",
    "\n",
    "# Standardize the data\n",
    "scaler = StandardScaler()\n",
    "X_scaled = scaler.fit_transform(X_structured)\n",
    "\n",
    "# Save scaler for future use\n",
    "joblib.dump(scaler, 'scaler.joblib')\n",
    "\n",
    "# Train-test split\n",
    "X_train, X_val = train_test_split(X_scaled, test_size=0.2, random_state=42)\n",
    "\n",
    "# Clear unnecessary variables\n",
    "del X_structured\n",
    "del X_scaled\n"
   ]
  },
  {
   "cell_type": "markdown",
   "metadata": {},
   "source": [
    "### 3. VAE Model Definition and Hyperparameter Tuning\n",
    "We define the VAE model and set up hyperparameter tuning using Keras Tuner's \n",
    "<code>BayesianOptimization</code>."
   ]
  },
  {
   "cell_type": "code",
   "execution_count": 7,
   "metadata": {},
   "outputs": [],
   "source": [
    "# # Sampling Layer\n",
    "# class Sampling(layers.Layer):\n",
    "#     def call(self, inputs):\n",
    "#         z_mean, z_log_var = inputs\n",
    "#         batch = tf.shape(z_mean)[0]\n",
    "#         dim = tf.shape(z_mean)[1]\n",
    "#         epsilon = tf.random.normal(shape=(batch, dim))\n",
    "#         return z_mean + tf.exp(0.5 * z_log_var) * epsilon\n",
    "\n",
    "# # VAE Model\n",
    "# class VAE(tf.keras.Model):\n",
    "#     def __init__(self, encoder, decoder, input_dim, **kwargs):\n",
    "#         super(VAE, self).__init__(**kwargs)\n",
    "#         self.encoder = encoder\n",
    "#         self.decoder = decoder\n",
    "#         self.input_dim = input_dim\n",
    "\n",
    "#     def call(self, inputs):\n",
    "#         z_mean, z_log_var, z = self.encoder(inputs)\n",
    "#         reconstructed = self.decoder(z)\n",
    "        \n",
    "#         reconstruction_loss = tf.reduce_mean(\n",
    "#             tf.keras.losses.MeanSquaredError()(inputs, reconstructed)\n",
    "#         ) * self.input_dim\n",
    "        \n",
    "#         # KL divergence loss\n",
    "#         kl_loss = -0.5 * tf.reduce_mean(\n",
    "#             1 + z_log_var - tf.square(z_mean) - tf.exp(z_log_var)\n",
    "#         )\n",
    "        \n",
    "#         # Add the losses to the model\n",
    "#         self.add_loss(reconstruction_loss)\n",
    "#         self.add_loss(kl_loss)\n",
    "        \n",
    "#         return reconstructed\n",
    "\n",
    "\n",
    "# Sampling Layer\n",
    "class Sampling(layers.Layer):\n",
    "    def call(self, inputs):\n",
    "        z_mean, z_log_var = inputs\n",
    "        batch = tf.shape(z_mean)[0]\n",
    "        dim = tf.shape(z_mean)[1]\n",
    "        epsilon = tf.random.normal(shape=(batch, dim))\n",
    "        return z_mean + tf.exp(0.5 * z_log_var) * epsilon\n",
    "\n",
    "# VAE Model\n",
    "class VAE(tf.keras.Model):\n",
    "    def __init__(self, encoder, decoder, input_dim, **kwargs):\n",
    "        super(VAE, self).__init__(**kwargs)\n",
    "        self.encoder = encoder\n",
    "        self.decoder = decoder\n",
    "        self.input_dim = input_dim\n",
    "\n",
    "    def call(self, inputs):\n",
    "        z_mean, z_log_var, z = self.encoder(inputs)\n",
    "        reconstructed = self.decoder(z)\n",
    "        \n",
    "        # Reconstruction loss\n",
    "        reconstruction_loss = tf.reduce_mean(\n",
    "            tf.keras.losses.MeanSquaredError()(inputs, reconstructed)\n",
    "        ) * self.input_dim\n",
    "        \n",
    "        # KL divergence loss\n",
    "        kl_loss = -0.5 * tf.reduce_mean(\n",
    "            1 + z_log_var - tf.square(z_mean) - tf.exp(z_log_var)\n",
    "        )\n",
    "        \n",
    "        # Add the losses to the model\n",
    "        self.add_loss(reconstruction_loss)\n",
    "        self.add_loss(kl_loss)\n",
    "        \n",
    "        return reconstructed\n",
    "\n",
    "    def get_config(self):\n",
    "        # Serialize encoder and decoder as part of the config\n",
    "        config = super(VAE, self).get_config()\n",
    "        config.update({\n",
    "            'encoder': self.encoder.get_config(),\n",
    "            'decoder': self.decoder.get_config(),\n",
    "            'input_dim': self.input_dim\n",
    "        })\n",
    "        return config\n",
    "\n",
    "    @classmethod\n",
    "    def from_config(cls, config):\n",
    "        # Rebuild encoder and decoder from their configs\n",
    "        encoder_config = config.pop('encoder')\n",
    "        decoder_config = config.pop('decoder')\n",
    "        \n",
    "        encoder = tf.keras.Model.from_config(encoder_config)\n",
    "        decoder = tf.keras.Model.from_config(decoder_config)\n",
    "        input_dim = config.pop('input_dim')\n",
    "        \n",
    "        return cls(encoder, decoder, input_dim, **config)\n"
   ]
  },
  {
   "cell_type": "markdown",
   "metadata": {},
   "source": [
    "##### 3.1 Define the VAE Hypermodel"
   ]
  },
  {
   "cell_type": "code",
   "execution_count": 8,
   "metadata": {},
   "outputs": [],
   "source": [
    "def build_vae(hp):\n",
    "    input_dim = X_train.shape[1]\n",
    "    \n",
    "    # Encoder\n",
    "    input_layer = layers.Input(shape=(input_dim,))\n",
    "    x = input_layer\n",
    "    num_layers = hp.Int('num_layers', 1, 3)\n",
    "    activation = hp.Choice('activation', ['relu', 'tanh'])\n",
    "    l2_reg = hp.Float('l2_reg', 1e-5, 1e-3, sampling='log')\n",
    "    \n",
    "    for i in range(num_layers):\n",
    "        units = hp.Int(f'units_{i}', min_value=64, max_value=256, step=64)\n",
    "        x = layers.Dense(\n",
    "            units,\n",
    "            activation=activation,\n",
    "            kernel_regularizer=tf.keras.regularizers.l2(l2_reg)\n",
    "        )(x)\n",
    "    \n",
    "    # Latent Space\n",
    "    encoding_dim = hp.Int('encoding_dim', min_value=2, max_value=32, step=2)\n",
    "    z_mean = layers.Dense(encoding_dim, name='z_mean')(x)\n",
    "    z_log_var = layers.Dense(encoding_dim, name='z_log_var')(x)\n",
    "    z = Sampling()([z_mean, z_log_var])\n",
    "    \n",
    "    # Encoder Model\n",
    "    encoder = tf.keras.Model(inputs=input_layer, outputs=[z_mean, z_log_var, z], name='encoder')\n",
    "    \n",
    "    # Decoder\n",
    "    latent_inputs = layers.Input(shape=(encoding_dim,))\n",
    "    x = latent_inputs\n",
    "    for i in range(num_layers):\n",
    "        units = hp.Int(f'units_dec_{i}', min_value=64, max_value=256, step=64)\n",
    "        x = layers.Dense(\n",
    "            units,\n",
    "            activation=activation,\n",
    "            kernel_regularizer=tf.keras.regularizers.l2(l2_reg)\n",
    "        )(x)\n",
    "    \n",
    "    outputs = layers.Dense(input_dim, activation='linear')(x)\n",
    "    \n",
    "    # Decoder Model\n",
    "    decoder = tf.keras.Model(inputs=latent_inputs, outputs=outputs, name='decoder')\n",
    "    \n",
    "    # VAE Model\n",
    "    vae = VAE(encoder, decoder, input_dim=input_dim)\n",
    "    \n",
    "    # Compile the model\n",
    "    learning_rate = hp.Float('learning_rate', 1e-4, 1e-2, sampling='log')\n",
    "    vae.compile(optimizer=tf.keras.optimizers.Adam(learning_rate=learning_rate))\n",
    "    \n",
    "    return vae\n"
   ]
  },
  {
   "cell_type": "markdown",
   "metadata": {},
   "source": [
    "##### 3.2 Set Up Hyperparameter Tuning"
   ]
  },
  {
   "cell_type": "code",
   "execution_count": 9,
   "metadata": {},
   "outputs": [
    {
     "name": "stdout",
     "output_type": "stream",
     "text": [
      "Reloading Tuner from vae_tuning\\vitai_vae\\tuner0.json\n"
     ]
    }
   ],
   "source": [
    "# Set up the tuner\n",
    "tuner = BayesianOptimization(\n",
    "    build_vae,\n",
    "    objective='val_loss',\n",
    "    max_trials=20,\n",
    "    executions_per_trial=1,\n",
    "    directory='vae_tuning',\n",
    "    project_name='vitai_vae'\n",
    ")\n",
    "\n",
    "# Early stopping\n",
    "early_stopping = keras.callbacks.EarlyStopping(\n",
    "    monitor='val_loss',\n",
    "    patience=5,\n",
    "    restore_best_weights=True\n",
    ")\n"
   ]
  },
  {
   "cell_type": "markdown",
   "metadata": {},
   "source": [
    "##### 3.3 Run Hyperparameter Search"
   ]
  },
  {
   "cell_type": "code",
   "execution_count": 10,
   "metadata": {},
   "outputs": [],
   "source": [
    "# Run the hyperparameter search\n",
    "tuner.search(\n",
    "    X_train, X_train,\n",
    "    epochs=50,\n",
    "    batch_size=64,\n",
    "    validation_data=(X_val, X_val),\n",
    "    callbacks=[early_stopping]\n",
    ")"
   ]
  },
  {
   "cell_type": "markdown",
   "metadata": {},
   "source": [
    "### 4. Model Training and Reconstruction Error Calculation\n",
    "After finding the best hyperparameters, we train the VAE model and compute the reconstruction error."
   ]
  },
  {
   "cell_type": "markdown",
   "metadata": {},
   "source": [
    "##### 4.1 Train the Best Model"
   ]
  },
  {
   "cell_type": "code",
   "execution_count": 11,
   "metadata": {},
   "outputs": [
    {
     "name": "stdout",
     "output_type": "stream",
     "text": [
      "\n",
      "The optimal number of layers is 2 encoder and decoder layers.\n",
      "The optimal number of units in each layer are:\n",
      "Encoder units: [256, 64]\n",
      "Decoder units: [192, 256]\n",
      "The optimal activation function is relu.\n",
      "The optimal encoding dimension is 30.\n",
      "The optimal learning rate is 0.0002519654858611606.\n",
      "\n",
      "Epoch 1/50\n",
      "1461/1461 [==============================] - 6s 3ms/step - loss: 23.1579 - val_loss: 11.1437\n",
      "Epoch 2/50\n",
      "1461/1461 [==============================] - 4s 3ms/step - loss: 9.6258 - val_loss: 8.3802\n",
      "Epoch 3/50\n",
      "1461/1461 [==============================] - 3s 2ms/step - loss: 7.7346 - val_loss: 6.9228\n",
      "Epoch 4/50\n",
      "1461/1461 [==============================] - 3s 2ms/step - loss: 6.9081 - val_loss: 6.4075\n",
      "Epoch 5/50\n",
      "1461/1461 [==============================] - 4s 2ms/step - loss: 6.1535 - val_loss: 5.8434\n",
      "Epoch 6/50\n",
      "1461/1461 [==============================] - 4s 2ms/step - loss: 5.7547 - val_loss: 5.6576\n",
      "Epoch 7/50\n",
      "1461/1461 [==============================] - 4s 2ms/step - loss: 5.5261 - val_loss: 5.4472\n",
      "Epoch 8/50\n",
      "1461/1461 [==============================] - 4s 2ms/step - loss: 5.2205 - val_loss: 5.1516\n",
      "Epoch 9/50\n",
      "1461/1461 [==============================] - 3s 2ms/step - loss: 5.1870 - val_loss: 4.9668\n",
      "Epoch 10/50\n",
      "1461/1461 [==============================] - 4s 2ms/step - loss: 4.8852 - val_loss: 4.8838\n",
      "Epoch 11/50\n",
      "1461/1461 [==============================] - 4s 2ms/step - loss: 4.7749 - val_loss: 4.7187\n",
      "Epoch 12/50\n",
      "1461/1461 [==============================] - 3s 2ms/step - loss: 4.9096 - val_loss: 4.6285\n",
      "Epoch 13/50\n",
      "1461/1461 [==============================] - 4s 3ms/step - loss: 4.6127 - val_loss: 4.4658\n",
      "Epoch 14/50\n",
      "1461/1461 [==============================] - 4s 3ms/step - loss: 4.4320 - val_loss: 4.4438\n",
      "Epoch 15/50\n",
      "1461/1461 [==============================] - 4s 3ms/step - loss: 4.4657 - val_loss: 4.3907\n",
      "Epoch 16/50\n",
      "1461/1461 [==============================] - 4s 3ms/step - loss: 4.3083 - val_loss: 4.3673\n",
      "Epoch 17/50\n",
      "1461/1461 [==============================] - 4s 3ms/step - loss: 4.5430 - val_loss: 4.2243\n",
      "Epoch 18/50\n",
      "1461/1461 [==============================] - 5s 3ms/step - loss: 4.1623 - val_loss: 4.2018\n",
      "Epoch 19/50\n",
      "1461/1461 [==============================] - 4s 2ms/step - loss: 4.1856 - val_loss: 4.1483\n",
      "Epoch 20/50\n",
      "1461/1461 [==============================] - 3s 2ms/step - loss: 4.2304 - val_loss: 4.1165\n",
      "Epoch 21/50\n",
      "1461/1461 [==============================] - 3s 2ms/step - loss: 4.0485 - val_loss: 4.0480\n",
      "Epoch 22/50\n",
      "1461/1461 [==============================] - 4s 3ms/step - loss: 4.0084 - val_loss: 4.0406\n",
      "Epoch 23/50\n",
      "1461/1461 [==============================] - 4s 3ms/step - loss: 4.0689 - val_loss: 4.1602\n",
      "Epoch 24/50\n",
      "1461/1461 [==============================] - 4s 3ms/step - loss: 4.2057 - val_loss: 3.9491\n",
      "Epoch 25/50\n",
      "1461/1461 [==============================] - 4s 2ms/step - loss: 3.9002 - val_loss: 3.9430\n",
      "Epoch 26/50\n",
      "1461/1461 [==============================] - 4s 2ms/step - loss: 4.0899 - val_loss: 3.8531\n",
      "Epoch 27/50\n",
      "1461/1461 [==============================] - 4s 3ms/step - loss: 3.8434 - val_loss: 3.8652\n",
      "Epoch 28/50\n",
      "1461/1461 [==============================] - 4s 2ms/step - loss: 3.8400 - val_loss: 3.8554\n",
      "Epoch 29/50\n",
      "1461/1461 [==============================] - 4s 2ms/step - loss: 3.7872 - val_loss: 3.8003\n",
      "Epoch 30/50\n",
      "1461/1461 [==============================] - 4s 2ms/step - loss: 3.7820 - val_loss: 3.7310\n",
      "Epoch 31/50\n",
      "1461/1461 [==============================] - 3s 2ms/step - loss: 4.0160 - val_loss: 3.7086\n",
      "Epoch 32/50\n",
      "1461/1461 [==============================] - 3s 2ms/step - loss: 3.7685 - val_loss: 3.7057\n",
      "Epoch 33/50\n",
      "1461/1461 [==============================] - 4s 2ms/step - loss: 3.6863 - val_loss: 3.7127\n",
      "Epoch 34/50\n",
      "1461/1461 [==============================] - 4s 2ms/step - loss: 3.7180 - val_loss: 3.6433\n",
      "Epoch 35/50\n",
      "1461/1461 [==============================] - 4s 2ms/step - loss: 3.6423 - val_loss: 3.6574\n",
      "Epoch 36/50\n",
      "1461/1461 [==============================] - 4s 2ms/step - loss: 3.6075 - val_loss: 3.6577\n",
      "Epoch 37/50\n",
      "1461/1461 [==============================] - 4s 2ms/step - loss: 3.6161 - val_loss: 3.6306\n",
      "Epoch 38/50\n",
      "1461/1461 [==============================] - 3s 2ms/step - loss: 3.6418 - val_loss: 3.5811\n",
      "Epoch 39/50\n",
      "1461/1461 [==============================] - 3s 2ms/step - loss: 3.7508 - val_loss: 3.6239\n",
      "Epoch 40/50\n",
      "1461/1461 [==============================] - 4s 2ms/step - loss: 3.6288 - val_loss: 3.5261\n",
      "Epoch 41/50\n",
      "1461/1461 [==============================] - 4s 2ms/step - loss: 3.5052 - val_loss: 3.5493\n",
      "Epoch 42/50\n",
      "1461/1461 [==============================] - 4s 2ms/step - loss: 3.5035 - val_loss: 3.5078\n",
      "Epoch 43/50\n",
      "1461/1461 [==============================] - 4s 2ms/step - loss: 3.4812 - val_loss: 3.5225\n",
      "Epoch 44/50\n",
      "1461/1461 [==============================] - 4s 3ms/step - loss: 3.4882 - val_loss: 3.4976\n",
      "Epoch 45/50\n",
      "1461/1461 [==============================] - 4s 3ms/step - loss: 3.4920 - val_loss: 3.4739\n",
      "Epoch 46/50\n",
      "1461/1461 [==============================] - 4s 2ms/step - loss: 3.4452 - val_loss: 3.4726\n",
      "Epoch 47/50\n",
      "1461/1461 [==============================] - 4s 2ms/step - loss: 3.4905 - val_loss: 3.5167\n",
      "Epoch 48/50\n",
      "1461/1461 [==============================] - 4s 2ms/step - loss: 3.5622 - val_loss: 3.4253\n",
      "Epoch 49/50\n",
      "1461/1461 [==============================] - 3s 2ms/step - loss: 3.3914 - val_loss: 3.4115\n",
      "Epoch 50/50\n",
      "1461/1461 [==============================] - 4s 2ms/step - loss: 3.3923 - val_loss: 3.4039\n"
     ]
    },
    {
     "ename": "NotImplementedError",
     "evalue": "Saving the model to HDF5 format requires the model to be a Functional model or a Sequential model. It does not work for subclassed models, because such models are defined via the body of a Python method, which isn't safely serializable. Consider saving to the Tensorflow SavedModel format (by setting save_format=\"tf\") or using `save_weights`.",
     "output_type": "error",
     "traceback": [
      "\u001b[1;31m---------------------------------------------------------------------------\u001b[0m",
      "\u001b[1;31mNotImplementedError\u001b[0m                       Traceback (most recent call last)",
      "Cell \u001b[1;32mIn[11], line 27\u001b[0m\n\u001b[0;32m     18\u001b[0m history \u001b[38;5;241m=\u001b[39m best_model\u001b[38;5;241m.\u001b[39mfit(\n\u001b[0;32m     19\u001b[0m     X_train, X_train,\n\u001b[0;32m     20\u001b[0m     epochs\u001b[38;5;241m=\u001b[39m\u001b[38;5;241m50\u001b[39m,\n\u001b[1;32m   (...)\u001b[0m\n\u001b[0;32m     23\u001b[0m     callbacks\u001b[38;5;241m=\u001b[39m[early_stopping]\n\u001b[0;32m     24\u001b[0m )\n\u001b[0;32m     26\u001b[0m \u001b[38;5;66;03m# Save the model in TensorFlow format (use .keras or .h5 extension)\u001b[39;00m\n\u001b[1;32m---> 27\u001b[0m \u001b[43mbest_model\u001b[49m\u001b[38;5;241;43m.\u001b[39;49m\u001b[43msave\u001b[49m\u001b[43m(\u001b[49m\u001b[38;5;124;43m'\u001b[39;49m\u001b[38;5;124;43mvae_model.keras\u001b[39;49m\u001b[38;5;124;43m'\u001b[39;49m\u001b[43m)\u001b[49m  \u001b[38;5;66;03m# Use .keras or .h5 for saving\u001b[39;00m\n\u001b[0;32m     30\u001b[0m \u001b[38;5;66;03m# Clear session to free memory\u001b[39;00m\n\u001b[0;32m     31\u001b[0m keras\u001b[38;5;241m.\u001b[39mbackend\u001b[38;5;241m.\u001b[39mclear_session()\n",
      "File \u001b[1;32mc:\\Users\\imran\\miniconda3\\envs\\py310\\lib\\site-packages\\keras\\utils\\traceback_utils.py:70\u001b[0m, in \u001b[0;36mfilter_traceback.<locals>.error_handler\u001b[1;34m(*args, **kwargs)\u001b[0m\n\u001b[0;32m     67\u001b[0m     filtered_tb \u001b[38;5;241m=\u001b[39m _process_traceback_frames(e\u001b[38;5;241m.\u001b[39m__traceback__)\n\u001b[0;32m     68\u001b[0m     \u001b[38;5;66;03m# To get the full stack trace, call:\u001b[39;00m\n\u001b[0;32m     69\u001b[0m     \u001b[38;5;66;03m# `tf.debugging.disable_traceback_filtering()`\u001b[39;00m\n\u001b[1;32m---> 70\u001b[0m     \u001b[38;5;28;01mraise\u001b[39;00m e\u001b[38;5;241m.\u001b[39mwith_traceback(filtered_tb) \u001b[38;5;28;01mfrom\u001b[39;00m \u001b[38;5;28;01mNone\u001b[39;00m\n\u001b[0;32m     71\u001b[0m \u001b[38;5;28;01mfinally\u001b[39;00m:\n\u001b[0;32m     72\u001b[0m     \u001b[38;5;28;01mdel\u001b[39;00m filtered_tb\n",
      "File \u001b[1;32mc:\\Users\\imran\\miniconda3\\envs\\py310\\lib\\site-packages\\keras\\saving\\save.py:153\u001b[0m, in \u001b[0;36msave_model\u001b[1;34m(model, filepath, overwrite, include_optimizer, save_format, signatures, options, save_traces)\u001b[0m\n\u001b[0;32m    144\u001b[0m \u001b[38;5;28;01mif\u001b[39;00m (\n\u001b[0;32m    145\u001b[0m     save_format \u001b[38;5;241m==\u001b[39m \u001b[38;5;124m\"\u001b[39m\u001b[38;5;124mh5\u001b[39m\u001b[38;5;124m\"\u001b[39m\n\u001b[0;32m    146\u001b[0m     \u001b[38;5;129;01mor\u001b[39;00m (h5py \u001b[38;5;129;01mis\u001b[39;00m \u001b[38;5;129;01mnot\u001b[39;00m \u001b[38;5;28;01mNone\u001b[39;00m \u001b[38;5;129;01mand\u001b[39;00m \u001b[38;5;28misinstance\u001b[39m(filepath, h5py\u001b[38;5;241m.\u001b[39mFile))\n\u001b[0;32m    147\u001b[0m     \u001b[38;5;129;01mor\u001b[39;00m saving_utils\u001b[38;5;241m.\u001b[39mis_hdf5_filepath(filepath)\n\u001b[0;32m    148\u001b[0m ):\n\u001b[0;32m    149\u001b[0m     \u001b[38;5;66;03m# TODO(b/130258301): add utility method for detecting model type.\u001b[39;00m\n\u001b[0;32m    150\u001b[0m     \u001b[38;5;28;01mif\u001b[39;00m \u001b[38;5;129;01mnot\u001b[39;00m model\u001b[38;5;241m.\u001b[39m_is_graph_network \u001b[38;5;129;01mand\u001b[39;00m \u001b[38;5;129;01mnot\u001b[39;00m \u001b[38;5;28misinstance\u001b[39m(\n\u001b[0;32m    151\u001b[0m         model, sequential\u001b[38;5;241m.\u001b[39mSequential\n\u001b[0;32m    152\u001b[0m     ):\n\u001b[1;32m--> 153\u001b[0m         \u001b[38;5;28;01mraise\u001b[39;00m \u001b[38;5;167;01mNotImplementedError\u001b[39;00m(\n\u001b[0;32m    154\u001b[0m             \u001b[38;5;124m\"\u001b[39m\u001b[38;5;124mSaving the model to HDF5 format requires the model to be a \u001b[39m\u001b[38;5;124m\"\u001b[39m\n\u001b[0;32m    155\u001b[0m             \u001b[38;5;124m\"\u001b[39m\u001b[38;5;124mFunctional model or a Sequential model. It does not work for \u001b[39m\u001b[38;5;124m\"\u001b[39m\n\u001b[0;32m    156\u001b[0m             \u001b[38;5;124m\"\u001b[39m\u001b[38;5;124msubclassed models, because such models are defined via the \u001b[39m\u001b[38;5;124m\"\u001b[39m\n\u001b[0;32m    157\u001b[0m             \u001b[38;5;124m\"\u001b[39m\u001b[38;5;124mbody of a Python method, which isn\u001b[39m\u001b[38;5;124m'\u001b[39m\u001b[38;5;124mt safely serializable. \u001b[39m\u001b[38;5;124m\"\u001b[39m\n\u001b[0;32m    158\u001b[0m             \u001b[38;5;124m\"\u001b[39m\u001b[38;5;124mConsider saving to the Tensorflow SavedModel format (by \u001b[39m\u001b[38;5;124m\"\u001b[39m\n\u001b[0;32m    159\u001b[0m             \u001b[38;5;124m'\u001b[39m\u001b[38;5;124msetting save_format=\u001b[39m\u001b[38;5;124m\"\u001b[39m\u001b[38;5;124mtf\u001b[39m\u001b[38;5;124m\"\u001b[39m\u001b[38;5;124m) or using `save_weights`.\u001b[39m\u001b[38;5;124m'\u001b[39m\n\u001b[0;32m    160\u001b[0m         )\n\u001b[0;32m    161\u001b[0m     hdf5_format\u001b[38;5;241m.\u001b[39msave_model_to_hdf5(\n\u001b[0;32m    162\u001b[0m         model, filepath, overwrite, include_optimizer\n\u001b[0;32m    163\u001b[0m     )\n\u001b[0;32m    164\u001b[0m \u001b[38;5;28;01melse\u001b[39;00m:\n",
      "\u001b[1;31mNotImplementedError\u001b[0m: Saving the model to HDF5 format requires the model to be a Functional model or a Sequential model. It does not work for subclassed models, because such models are defined via the body of a Python method, which isn't safely serializable. Consider saving to the Tensorflow SavedModel format (by setting save_format=\"tf\") or using `save_weights`."
     ]
    }
   ],
   "source": [
    "# Get the optimal hyperparameters\n",
    "best_hps = tuner.get_best_hyperparameters(num_trials=1)[0]\n",
    "\n",
    "# Print the optimal hyperparameters\n",
    "print(f\"\"\"\n",
    "The optimal number of layers is {best_hps.get('num_layers')} encoder and decoder layers.\n",
    "The optimal number of units in each layer are:\n",
    "Encoder units: {[best_hps.get(f'units_{i}') for i in range(best_hps.get('num_layers'))]}\n",
    "Decoder units: {[best_hps.get(f'units_dec_{i}') for i in range(best_hps.get('num_layers'))]}\n",
    "The optimal activation function is {best_hps.get('activation')}.\n",
    "The optimal encoding dimension is {best_hps.get('encoding_dim')}.\n",
    "The optimal learning rate is {best_hps.get('learning_rate')}.\n",
    "\"\"\")\n",
    "\n",
    "# Build and train the best model\n",
    "best_model = tuner.hypermodel.build(best_hps)\n",
    "\n",
    "history = best_model.fit(\n",
    "    X_train, X_train,\n",
    "    epochs=50,\n",
    "    batch_size=64,\n",
    "    validation_data=(X_val, X_val),\n",
    "    callbacks=[early_stopping]\n",
    ")\n",
    "\n",
    "# Save the model in TensorFlow format (use .keras or .h5 extension)\n",
    "best_model.save('vae_model.keras')  # Use .keras or .h5 for saving\n",
    "\n",
    "\n",
    "# Clear session to free memory\n",
    "keras.backend.clear_session()\n"
   ]
  },
  {
   "cell_type": "markdown",
   "metadata": {},
   "source": [
    "##### 4.2 Compute Reconstruction Error"
   ]
  },
  {
   "cell_type": "code",
   "execution_count": 9,
   "metadata": {},
   "outputs": [
    {
     "name": "stdout",
     "output_type": "stream",
     "text": [
      "\u001b[1m1461/1461\u001b[0m \u001b[32m━━━━━━━━━━━━━━━━━━━━\u001b[0m\u001b[37m\u001b[0m \u001b[1m1s\u001b[0m 588us/step\n"
     ]
    }
   ],
   "source": [
    "# Load the best model\n",
    "custom_objects = {'VAE': VAE, 'Sampling': Sampling}\n",
    "best_model = tf.keras.models.load_model('vae_model.keras', custom_objects=custom_objects)\n",
    "\n",
    "# Re-compile the model to include custom loss\n",
    "best_model.compile(optimizer=tf.keras.optimizers.Adam(learning_rate=best_hps.get('learning_rate')))\n",
    "\n",
    "\n",
    "# Compute reconstruction error for the entire training dataset\n",
    "reconstructed = best_model.predict(X_train, batch_size=64)\n",
    "reconstruction_errors = np.mean(np.square(X_train - reconstructed), axis=1)\n",
    "\n",
    "# Add reconstruction error to the data\n",
    "train_reconstruction_error = pd.DataFrame({'Reconstruction Error': reconstruction_errors})\n",
    "\n",
    "# Save reconstruction errors\n",
    "train_reconstruction_error.to_csv('train_reconstruction_error.csv', index=False)\n"
   ]
  },
  {
   "cell_type": "markdown",
   "metadata": {},
   "source": [
    "##### 4.3 Plot Reconstruction Error Distribution"
   ]
  },
  {
   "cell_type": "code",
   "execution_count": 10,
   "metadata": {},
   "outputs": [
    {
     "data": {
      "image/png": "[encoded data removed]",
      "text/plain": [
       "<Figure size 1000x600 with 1 Axes>"
      ]
     },
     "metadata": {},
     "output_type": "display_data"
    }
   ],
   "source": [
    "# Plot the reconstruction error distribution\n",
    "plt.figure(figsize=(10, 6))\n",
    "plt.hist(reconstruction_errors, bins=50, color='blue', alpha=0.7, edgecolor='black')\n",
    "plt.title('Reconstruction Error Distribution (Training Data)')\n",
    "plt.xlabel('Reconstruction Error')\n",
    "plt.ylabel('Frequency')\n",
    "plt.show()"
   ]
  },
  {
   "cell_type": "markdown",
   "metadata": {},
   "source": [
    "### 5. Latent Space Extraction and Clustering\n",
    "We extract the latent features from the encoder and apply clustering algorithms to identify patient groups."
   ]
  },
  {
   "cell_type": "markdown",
   "metadata": {},
   "source": [
    "##### 5.1 Extract Latent Features"
   ]
  },
  {
   "cell_type": "code",
   "execution_count": 11,
   "metadata": {},
   "outputs": [
    {
     "name": "stdout",
     "output_type": "stream",
     "text": [
      "\u001b[1m1461/1461\u001b[0m \u001b[32m━━━━━━━━━━━━━━━━━━━━\u001b[0m\u001b[37m\u001b[0m \u001b[1m1s\u001b[0m 482us/step\n"
     ]
    }
   ],
   "source": [
    "# 5.1 Extract Latent Features\n",
    "\n",
    "# Use the encoder model directly from the best_model\n",
    "encoder = best_model.encoder\n",
    "\n",
    "# Obtain latent representation\n",
    "z_mean, z_log_var, z = encoder.predict(X_train, batch_size=64)\n",
    "\n",
    "# Use the sampled latent vector z for clustering\n",
    "latent_features = z\n",
    "\n",
    "# Create a DataFrame for latent features\n",
    "latent_dim = best_hps.get('encoding_dim')\n",
    "latent_features_df = pd.DataFrame(data=latent_features, columns=[f'latent_{i}' for i in range(latent_dim)])\n",
    "\n",
    "# Add reconstruction error to the latent features DataFrame\n",
    "latent_features_df['reconstruction_error'] = reconstruction_errors\n",
    "\n",
    "# Save the latent features\n",
    "latent_features_df.to_csv('latent_features.csv', index=False)\n",
    "#\n"
   ]
  },
  {
   "cell_type": "markdown",
   "metadata": {},
   "source": [
    "##### 5.2 Clustering and Evaluation"
   ]
  },
  {
   "cell_type": "code",
   "execution_count": null,
   "metadata": {},
   "outputs": [
    {
     "name": "stdout",
     "output_type": "stream",
     "text": [
      "\n",
      "Testing KMeans...\n",
      "For n_clusters = 2, the average silhouette_score is : 0.054483287036418915\n",
      "For n_clusters = 3, the average silhouette_score is : 0.05288277193903923\n",
      "For n_clusters = 4, the average silhouette_score is : 0.034134216606616974\n",
      "For n_clusters = 5, the average silhouette_score is : 0.027851931750774384\n",
      "For n_clusters = 6, the average silhouette_score is : 0.04369853064417839\n",
      "For n_clusters = 7, the average silhouette_score is : 0.04213356226682663\n",
      "For n_clusters = 8, the average silhouette_score is : 0.0467820018529892\n",
      "For n_clusters = 9, the average silhouette_score is : 0.04406581073999405\n",
      "\n",
      "Testing DBSCAN...\n",
      "\n",
      "Testing AgglomerativeClustering...\n"
     ]
    }
   ],
   "source": [
    "# Clustering algorithms to try\n",
    "clustering_algorithms = {\n",
    "    'KMeans': KMeans,\n",
    "    'DBSCAN': DBSCAN,\n",
    "    'AgglomerativeClustering': AgglomerativeClustering\n",
    "}\n",
    "\n",
    "# For KMeans and AgglomerativeClustering, test different numbers of clusters\n",
    "range_n_clusters = list(range(2, 10))\n",
    "\n",
    "best_algorithm = None\n",
    "best_score = -1\n",
    "best_labels = None\n",
    "best_n_clusters = None\n",
    "\n",
    "for name, algorithm in clustering_algorithms.items():\n",
    "    print(f\"\\nTesting {name}...\")\n",
    "    if name == 'KMeans' or name == 'AgglomerativeClustering':\n",
    "        for n_clusters in range_n_clusters:\n",
    "            if name == 'KMeans':\n",
    "                clustering = algorithm(n_clusters=n_clusters, random_state=42)\n",
    "            else:\n",
    "                clustering = algorithm(n_clusters=n_clusters)\n",
    "            cluster_labels = clustering.fit_predict(latent_features)\n",
    "            silhouette_avg = silhouette_score(latent_features, cluster_labels)\n",
    "            print(f\"For n_clusters = {n_clusters}, the average silhouette_score is : {silhouette_avg}\")\n",
    "            if silhouette_avg > best_score:\n",
    "                best_score = silhouette_avg\n",
    "                best_algorithm = name\n",
    "                best_labels = cluster_labels\n",
    "                best_n_clusters = n_clusters\n",
    "    elif name == 'DBSCAN':\n",
    "        # Try different eps and min_samples\n",
    "        eps_values = [0.3, 0.5, 0.7]\n",
    "        min_samples_values = [5, 10]\n",
    "        for eps in eps_values:\n",
    "            for min_samples in min_samples_values:\n",
    "                clustering = algorithm(eps=eps, min_samples=min_samples)\n",
    "                cluster_labels = clustering.fit_predict(latent_features)\n",
    "                # For DBSCAN, some labels might be -1 (noise)\n",
    "                # We need at least 2 clusters to compute silhouette score\n",
    "                if len(set(cluster_labels)) > 1 and -1 not in set(cluster_labels):\n",
    "                    silhouette_avg = silhouette_score(latent_features, cluster_labels)\n",
    "                    print(f\"For eps = {eps}, min_samples = {min_samples}, the average silhouette_score is : {silhouette_avg}\")\n",
    "                    if silhouette_avg > best_score:\n",
    "                        best_score = silhouette_avg\n",
    "                        best_algorithm = f\"{name} (eps={eps}, min_samples={min_samples})\"\n",
    "                        best_labels = cluster_labels\n",
    "                        best_n_clusters = len(set(cluster_labels))\n",
    "    else:\n",
    "        print(f\"Algorithm {name} not implemented.\")\n",
    "\n",
    "print(f\"\\nBest algorithm: {best_algorithm} with {best_n_clusters} clusters and silhouette score of {best_score}\")\n",
    "\n",
    "# Add the best cluster labels to the DataFrame\n",
    "latent_features_df['cluster'] = best_labels\n",
    "\n",
    "# Save the updated latent features\n",
    "latent_features_df.to_csv('latent_features_with_clusters.csv', index=False)\n"
   ]
  },
  {
   "cell_type": "markdown",
   "metadata": {},
   "source": [
    "### 6. Latent Space Visualization\n",
    "We visualize the latent space using t-SNE and UMAP to understand the cluster formations."
   ]
  },
  {
   "cell_type": "markdown",
   "metadata": {},
   "source": [
    "##### 6.1 t-SNE Visualization"
   ]
  },
  {
   "cell_type": "code",
   "execution_count": null,
   "metadata": {},
   "outputs": [],
   "source": [
    "# Use t-SNE for visualization\n",
    "print(\"Performing t-SNE...\")\n",
    "tsne = TSNE(n_components=2, perplexity=30, random_state=42)\n",
    "latent_2d = tsne.fit_transform(latent_features)\n",
    "\n",
    "# Add to DataFrame\n",
    "latent_features_df['tsne_1'] = latent_2d[:, 0]\n",
    "latent_features_df['tsne_2'] = latent_2d[:, 1]\n",
    "\n",
    "# Plot t-SNE\n",
    "plt.figure(figsize=(10, 6))\n",
    "sns.scatterplot(x='tsne_1', y='tsne_2', hue='cluster', data=latent_features_df, palette='viridis', legend='full')\n",
    "plt.title('Latent Space Visualization with t-SNE')\n",
    "plt.show()\n"
   ]
  },
  {
   "cell_type": "markdown",
   "metadata": {},
   "source": [
    "##### 6.2 UMAP Visualization"
   ]
  },
  {
   "cell_type": "code",
   "execution_count": null,
   "metadata": {},
   "outputs": [],
   "source": [
    "# Use UMAP for visualization\n",
    "try:\n",
    "    import umap\n",
    "\n",
    "    print(\"Performing UMAP...\")\n",
    "    reducer = umap.UMAP(random_state=42)\n",
    "    latent_2d_umap = reducer.fit_transform(latent_features)\n",
    "\n",
    "    # Add to DataFrame\n",
    "    latent_features_df['umap_1'] = latent_2d_umap[:, 0]\n",
    "    latent_features_df['umap_2'] = latent_2d_umap[:, 1]\n",
    "\n",
    "    # Plot UMAP\n",
    "    plt.figure(figsize=(10, 6))\n",
    "    sns.scatterplot(x='umap_1', y='umap_2', hue='cluster', data=latent_features_df, palette='viridis', legend='full')\n",
    "    plt.title('Latent Space Visualization with UMAP')\n",
    "    plt.show()\n",
    "except ImportError:\n",
    "    print(\"UMAP is not installed. Skipping UMAP visualization.\")\n"
   ]
  },
  {
   "cell_type": "markdown",
   "metadata": {},
   "source": [
    "### 7. Health Severity Index Assignment\n",
    "We assign a health severity index based on the cluster assignments."
   ]
  },
  {
   "cell_type": "code",
   "execution_count": null,
   "metadata": {},
   "outputs": [],
   "source": [
    "# Map clusters to severity scores\n",
    "cluster_severity = {cluster: index for index, cluster in enumerate(sorted(latent_features_df['cluster'].unique()))}\n",
    "latent_features_df['severity_index'] = latent_features_df['cluster'].map(cluster_severity)\n",
    "\n",
    "# Optionally, scale severity index to 0-10 range\n",
    "scaler_severity = MinMaxScaler(feature_range=(0, 10))\n",
    "latent_features_df['severity_index_scaled'] = scaler_severity.fit_transform(latent_features_df[['severity_index']])\n"
   ]
  },
  {
   "cell_type": "markdown",
   "metadata": {},
   "source": [
    "### 8. Cluster Analysis and Validation\n",
    "We analyze the clusters to ensure they make clinical sense by examining the characteristics of each cluster."
   ]
  },
  {
   "cell_type": "markdown",
   "metadata": {},
   "source": [
    "##### 8.1 Combine Data for Analysis"
   ]
  },
  {
   "cell_type": "code",
   "execution_count": null,
   "metadata": {},
   "outputs": [],
   "source": [
    "# Combine original data with cluster labels\n",
    "analysis_df = pd.DataFrame(X_train, columns=structured_data.columns)\n",
    "analysis_df['cluster'] = latent_features_df['cluster']\n",
    "analysis_df['severity_index'] = latent_features_df['severity_index_scaled']\n",
    "analysis_df['reconstruction_error'] = latent_features_df['reconstruction_error']\n"
   ]
  },
  {
   "cell_type": "markdown",
   "metadata": {},
   "source": [
    "##### 8.2 Compute Summary Statistics"
   ]
  },
  {
   "cell_type": "code",
   "execution_count": null,
   "metadata": {},
   "outputs": [],
   "source": [
    "# Group by cluster and compute summary statistics\n",
    "cluster_summary = analysis_df.groupby('cluster').mean()\n",
    "print(\"\\nCluster Summary Statistics:\")\n",
    "print(cluster_summary)\n"
   ]
  },
  {
   "cell_type": "markdown",
   "metadata": {},
   "source": [
    "##### 8.3 Visualize Reconstruction Error by Cluster"
   ]
  },
  {
   "cell_type": "code",
   "execution_count": null,
   "metadata": {},
   "outputs": [],
   "source": [
    "# Visualize reconstruction error by cluster\n",
    "plt.figure(figsize=(10, 6))\n",
    "sns.boxplot(x='cluster', y='reconstruction_error', data=analysis_df)\n",
    "plt.title('Reconstruction Error by Cluster')\n",
    "plt.xlabel('Cluster')\n",
    "plt.ylabel('Reconstruction Error')\n",
    "plt.show()\n"
   ]
  },
  {
   "cell_type": "markdown",
   "metadata": {},
   "source": [
    "##### 8.4 Visualize Key Features by Cluster"
   ]
  },
  {
   "cell_type": "code",
   "execution_count": null,
   "metadata": {},
   "outputs": [],
   "source": [
    "# Visualize key features by cluster\n",
    "key_features = structured_data.columns.tolist()  # List of feature names\n",
    "\n",
    "# Limit to first 5 features for brevity\n",
    "for feature in key_features[:5]:\n",
    "    plt.figure(figsize=(10, 6))\n",
    "    sns.boxplot(x='cluster', y=feature, data=analysis_df)\n",
    "    plt.title(f'Distribution of {feature} by Cluster')\n",
    "    plt.xlabel('Cluster')\n",
    "    plt.ylabel(feature)\n",
    "    plt.show()\n"
   ]
  },
  {
   "cell_type": "markdown",
   "metadata": {},
   "source": [
    "### 9. Memory Management and Cleanup\n",
    "We perform cleanup to manage memory efficiently."
   ]
  },
  {
   "cell_type": "code",
   "execution_count": null,
   "metadata": {},
   "outputs": [],
   "source": [
    "# Clear variables to free memory\n",
    "del X_train\n",
    "del X_val\n",
    "del latent_features\n",
    "del latent_2d\n",
    "if 'latent_2d_umap' in locals():\n",
    "    del latent_2d_umap\n",
    "del encoder\n",
    "del best_model\n",
    "\n",
    "print(\"Analysis complete.\")\n"
   ]
  },
  {
   "cell_type": "markdown",
   "metadata": {},
   "source": [
    "## Conclusion\n",
    "In this notebook, we successfully:\n",
    "<ul>\n",
    "<li>Implemented a Variational Autoencoder to learn latent representations of patient health data.</li>\n",
    "<li>Tuned hyperparameters to find the optimal VAE configuration.</li>\n",
    "<li>Calculated reconstruction errors to assess model performance.</li>\n",
    "<li>Applied different clustering algorithms to the latent space to identify patient groups.</li>\n",
    "<li>Visualized the latent space using t-SNE and UMAP.</li>\n",
    "<li>Assigned a health severity index based on cluster assignments.</li>\n",
    "<li>Analyzed clusters to interpret the severity levels.</li>\n",
    "</ul>\n",
    "<br>\n",
    "This approach allows us to identify patterns in patient data that may correspond to varying levels of health severity, aiding in clinical decision-making and resource allocation."
   ]
  }
 ],
 "metadata": {
  "kernelspec": {
   "display_name": "py310",
   "language": "python",
   "name": "python3"
  },
  "language_info": {
   "codemirror_mode": {
    "name": "ipython",
    "version": 3
   },
   "file_extension": ".py",
   "mimetype": "text/x-python",
   "name": "python",
   "nbconvert_exporter": "python",
   "pygments_lexer": "ipython3",
   "version": "3.10.15"
  }
 },
 "nbformat": 4,
 "nbformat_minor": 2
}
